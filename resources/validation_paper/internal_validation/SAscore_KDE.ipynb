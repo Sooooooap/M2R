{
 "cells": [
  {
   "cell_type": "code",
   "execution_count": null,
   "metadata": {},
   "outputs": [],
   "source": [
    "import matplotlib.pyplot as plt\n",
    "import matplotlib as mpl\n",
    "import seaborn as sns\n",
    "import pandas as pd\n",
    "import numpy as np\n",
    "from rdkit import Chem\n",
    "import sascorer #cf. J. Cheminform. 1, 1–10 (2009).\n",
    "import os\n",
    "import warnings\n",
    "warnings.filterwarnings(\"ignore\")\n",
    "\n",
    "mpl.rcParams['pdf.fonttype'] = 42\n",
    "mpl.rcParams['ps.fonttype'] = 42\n",
    "mpl.rcParams[\"figure.dpi\"] = 300\n",
    "mpl.rcParams['font.family'] = 'sans-serif'\n",
    "mpl.rcParams['font.sans-serif'] = ['Arial']"
   ]
  },
  {
   "cell_type": "code",
   "execution_count": null,
   "metadata": {},
   "outputs": [],
   "source": [
    "root_dir = \"datasets_int_val\"\n",
    "MUBD_ligand_dir = [os.path.join(it, \"MUBDsyn/Diverse_ligands_PS.csv\") for it in os.scandir(root_dir) if it.is_dir()]\n",
    "MUBDreal_decoy_dir = [os.path.join(it, \"MUBDreal/Final_decoys.csv\") for it in os.scandir(root_dir) if it.is_dir()]\n",
    "MUBDsyn_decoy_dir = [os.path.join(it, \"MUBDsyn/Final_decoys.csv\") for it in os.scandir(root_dir) if it.is_dir()]\n",
    "\n",
    "df_ligand = [pd.read_csv(n) for n in MUBD_ligand_dir]\n",
    "df_ligand = pd.concat(df_ligand, axis=0)\n",
    "ligand_smis = list(df_ligand[\"SMILES\"])\n",
    "\n",
    "df_decoy_real = [pd.read_csv(n) for n in MUBDreal_decoy_dir]\n",
    "df_decoy_real = pd.concat(df_decoy_real, axis=0)\n",
    "decoy_real_smis = list(df_decoy_real[\"SMILES\"])\n",
    "\n",
    "df_decoy_syn = [pd.read_csv(n) for n in MUBDsyn_decoy_dir]\n",
    "df_decoy_syn = pd.concat(df_decoy_syn, axis=0)\n",
    "decoy_syn_smis = list(df_decoy_syn[\"SMILES\"])\n",
    "\n",
    "ligand_sa = [sascorer.calculateScore(Chem.MolFromSmiles(smi)) for smi in ligand_smis]\n",
    "df_ligand_sa = pd.DataFrame({\"SMILES\":ligand_smis, \"SAscore\":ligand_sa})\n",
    "\n",
    "decoy_real_sa = [sascorer.calculateScore(Chem.MolFromSmiles(smi)) for smi in decoy_real_smis]\n",
    "df_decoy_real_sa = pd.DataFrame({\"SMILES\":decoy_real_smis, \"SAscore\":decoy_real_sa})\n",
    "\n",
    "decoy_syn_sa = [sascorer.calculateScore(Chem.MolFromSmiles(smi)) for smi in decoy_syn_smis]\n",
    "df_decoy_syn_sa = pd.DataFrame({\"SMILES\":decoy_syn_smis, \"SAscore\":decoy_syn_sa})"
   ]
  },
  {
   "cell_type": "code",
   "execution_count": null,
   "metadata": {},
   "outputs": [],
   "source": [
    "fig, ax1 = plt.subplots(1,1, figsize=(28,14))\n",
    "sns.kdeplot(df_ligand_sa[\"SAscore\"], bw_adjust=3, clip=(1,10), ax=ax1, shade=True, color=\"lime\", lw=4)\n",
    "sns.kdeplot(df_decoy_real_sa[\"SAscore\"], bw_adjust=3, clip=(1,10), ax=ax1, shade=True, color=\"mediumblue\", lw=4)\n",
    "sns.kdeplot(df_decoy_syn_sa[\"SAscore\"], bw_adjust=3, clip=(1,10), ax=ax1, shade=True, color=\"firebrick\", lw=4)\n",
    "ax1.xaxis.set_tick_params(labelsize=26)\n",
    "ax1.yaxis.set_tick_params(labelsize=26)\n",
    "\n",
    "ax1.spines['right'].set_color('none')\n",
    "ax1.spines['top'].set_color('none')\n",
    "ax1.set_ylabel(\"Density\", size=26)\n",
    "ax1.set_xlabel(\"SA score\", size=26)\n",
    "ax1.set_xticks(np.arange(1,11))\n",
    "ax1.legend([\"MUBD ligands\", \"$\\mathdefault{MUBD^{real}}$ decoys\", \"$\\mathdefault{MUBD^{syn}}$ decoys\"])\n",
    "plt.text(3.2, 0.23, f\"{chr(956)} = 3.65\\n{chr(963)} = 1.80\", fontsize=26)\n",
    "plt.text(4.2, 0.35, f\"{chr(956)} = 3.58\\n{chr(963)} = 1.07\", fontsize=26)\n",
    "plt.text(1.9, 0.35, f\"{chr(956)} = 3.44\\n{chr(963)} = 1.25\", fontsize=26)\n",
    "sns.move_legend(ax1, \"upper center\", bbox_to_anchor=(.5, 1.1), ncol=3, \n",
    "                title=None, frameon=False, prop={\"size\":26})\n",
    "plt.xlim(xmin=1.0)\n",
    "plt.ylim(ymin=0.0)\n",
    "plt.tight_layout()\n",
    "fig.savefig(\"SA.pdf\", transparent=True, bbox_inches='tight')"
   ]
  },
  {
   "cell_type": "code",
   "execution_count": null,
   "metadata": {},
   "outputs": [],
   "source": [
    "# set shade=False and run cell 3 before running this cell\n",
    "names = [\"MUBD ligands\", \"MUBDreal decoys\", \"MUBDsyn decoys\"]\n",
    "for idx, line in enumerate(ax1.get_lines()):\n",
    "    x, y = line.get_data()\n",
    "    mean = np.dot(y, x) / y.sum()\n",
    "    std = np.dot(y, x**2) / y.sum() - mean**2\n",
    "    print(names[idx])\n",
    "    print(f\"{chr(956)}: {mean:.2f}\", f\"{chr(963)}: {std:.2f}\")"
   ]
  }
 ],
 "metadata": {
  "kernelspec": {
   "display_name": "Python 3.7.13 ('tf2')",
   "language": "python",
   "name": "python3"
  },
  "language_info": {
   "codemirror_mode": {
    "name": "ipython",
    "version": 3
   },
   "file_extension": ".py",
   "mimetype": "text/x-python",
   "name": "python",
   "nbconvert_exporter": "python",
   "pygments_lexer": "ipython3",
   "version": "3.7.13"
  },
  "orig_nbformat": 4,
  "vscode": {
   "interpreter": {
    "hash": "d4ed2dd97041b7add4fb55bfa6bda19f53222e5fd40e7bc96b6f944455aad310"
   }
  }
 },
 "nbformat": 4,
 "nbformat_minor": 2
}
